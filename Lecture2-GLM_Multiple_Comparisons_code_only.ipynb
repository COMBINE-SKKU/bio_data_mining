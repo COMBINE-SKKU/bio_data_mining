{
 "cells": [
  {
   "cell_type": "markdown",
   "metadata": {
    "slideshow": {
     "slide_type": "slide"
    }
   },
   "source": [
    "# Before jumping to the code implementation\n",
    "- 보시는 동영상에는 git을 사용하라고 말씀드리고 있는데, 각 주차마다 해당 ipynb파일만 다운받고 싶으면 wget이나 curl을 사용하여도 좋습니다. \n",
    "    - wget https://raw.githubusercontent.com/COMBINE-SKKU/bio_data_mining/master/Lecture2-GLM_Multiple_Comparisons_code_only.ipynb\n",
    "    - curl https://raw.githubusercontent.com/COMBINE-SKKU/bio_data_mining/master/Lecture2-GLM_Multiple_Comparisons_code_only.ipynb --output Lecture2-GLM_Multiple_Comparisons_code_only.ipynb\n",
    "<br><br><br>    \n",
    "- 동영상과 같이 git clone을 사용하고 싶은 학생은 이번주차는 처음이라 상관없지만, 두 번째 주차부터는 git은 existing directory에는 clone을 하지 않으므로 디렉토리 (~/Documents/BioDataMining)를 지워주고 실행하여야 합니다. \n",
    "- Open the terminal and make a directory dedicated for this class code implementation (e.g., mkdir ~/Documents/BioDataMining)\n",
    "- Install Git (https://git-scm.com/book/en/v2/Getting-Started-Installing-Git)\n",
    "- Go to the directory for this class, and type: git clone https://github.com/COMBINE-SKKU/bio_data_mining.git\n",
    "- If you are a newbie for programming a python and jupyter notebook, please install anaconda \n",
    "    - Window: https://problemsolvingwithpython.com/01-Orientation/01.03-Installing-Anaconda-on-Windows/\n",
    "    - Mac: https://problemsolvingwithpython.com/01-Orientation/01.04-Installing-Anaconda-on-MacOS/\n",
    "    - Linux: https://problemsolvingwithpython.com/01-Orientation/01.05-Installing-Anaconda-on-Linux/\n",
    "- And learn how to open a jupyter notebook (https://www.youtube.com/watch?v=OJMILWh6ARY)\n",
    "- Run the following codes."
   ]
  },
  {
   "cell_type": "markdown",
   "metadata": {
    "cell_style": "center",
    "slideshow": {
     "slide_type": "slide"
    }
   },
   "source": [
    "# Verfication\n",
    "- Question: Is the height of students related to the level of their daily stress and nutrient? "
   ]
  },
  {
   "cell_type": "markdown",
   "metadata": {
    "cell_style": "center",
    "slideshow": {
     "slide_type": "fragment"
    }
   },
   "source": [
    "### Regression:\n",
    "$Height\\ of\\ student=\\theta _{0}+\\theta_{1}\\times Daily\\ stress\\ +\\theta_{2}\\times Nutrient \\ level$<br><br>\n",
    "<i>Linear regression model: </i>\n",
    "$\\hat{y}=\\theta _{0}+\\theta_{1}{x}_{1}+\\theta_{2}{x}_{2}+\\ \\cdot\\cdot\\cdot\\ +\\theta_{n}{x}_{n}\\ +\\varepsilon$\n",
    "- $\\hat{y}$ is the predicted value.\n",
    "- $n$ is the number of features.\n",
    "- ${x}_i$ is the ${i}^{th}$ feature value.\n",
    "- $\\theta_j$ is the ${j}^{th}$ model parameter (including the bias term $\\theta_{0}$)."
   ]
  },
  {
   "cell_type": "code",
   "execution_count": 2,
   "metadata": {
    "collapsed": true,
    "slideshow": {
     "slide_type": "-"
    }
   },
   "outputs": [],
   "source": [
    "import numpy as np\n",
    "import statsmodels.api as sm"
   ]
  },
  {
   "cell_type": "code",
   "execution_count": 3,
   "metadata": {
    "collapsed": true,
    "slideshow": {
     "slide_type": "fragment"
    }
   },
   "outputs": [],
   "source": [
    "x = [[0, 1], [5, 1], [15, 2], [25, 5], [35, 11], [45, 15], [55, 34], [60, 35]]\n",
    "y = [4, 5, 20, 14, 32, 22, 38, 43]\n",
    "x, y = np.array(x), np.array(y)\n",
    "\n",
    "x = sm.add_constant(x)"
   ]
  },
  {
   "cell_type": "code",
   "execution_count": 4,
   "metadata": {
    "collapsed": true,
    "slideshow": {
     "slide_type": "fragment"
    }
   },
   "outputs": [],
   "source": [
    "model = sm.OLS(y, x)\n",
    "results = model.fit()"
   ]
  },
  {
   "cell_type": "code",
   "execution_count": 5,
   "metadata": {
    "collapsed": true,
    "slideshow": {
     "slide_type": "fragment"
    }
   },
   "outputs": [
    {
     "name": "stdout",
     "output_type": "stream",
     "text": [
      "                            OLS Regression Results                            \n",
      "==============================================================================\n",
      "Dep. Variable:                      y   R-squared:                       0.862\n",
      "Model:                            OLS   Adj. R-squared:                  0.806\n",
      "Method:                 Least Squares   F-statistic:                     15.56\n",
      "Date:                Mon, 07 Sep 2020   Prob (F-statistic):            0.00713\n",
      "Time:                        12:58:18   Log-Likelihood:                -24.316\n",
      "No. Observations:                   8   AIC:                             54.63\n",
      "Df Residuals:                       5   BIC:                             54.87\n",
      "Df Model:                           2                                         \n",
      "Covariance Type:            nonrobust                                         \n",
      "==============================================================================\n",
      "                 coef    std err          t      P>|t|      [0.025      0.975]\n",
      "------------------------------------------------------------------------------\n",
      "const          5.5226      4.431      1.246      0.268      -5.867      16.912\n",
      "x1             0.4471      0.285      1.567      0.178      -0.286       1.180\n",
      "x2             0.2550      0.453      0.563      0.598      -0.910       1.420\n",
      "==============================================================================\n",
      "Omnibus:                        0.561   Durbin-Watson:                   3.268\n",
      "Prob(Omnibus):                  0.755   Jarque-Bera (JB):                0.534\n",
      "Skew:                           0.380   Prob(JB):                        0.766\n",
      "Kurtosis:                       1.987   Cond. No.                         80.1\n",
      "==============================================================================\n",
      "\n",
      "Warnings:\n",
      "[1] Standard Errors assume that the covariance matrix of the errors is correctly specified.\n"
     ]
    },
    {
     "name": "stderr",
     "output_type": "stream",
     "text": [
      "/Applications/anaconda3/lib/python3.7/site-packages/scipy/stats/stats.py:1535: UserWarning: kurtosistest only valid for n>=20 ... continuing anyway, n=8\n",
      "  \"anyway, n=%i\" % int(n))\n"
     ]
    }
   ],
   "source": [
    "print(results.summary())"
   ]
  },
  {
   "cell_type": "markdown",
   "metadata": {
    "slideshow": {
     "slide_type": "-"
    }
   },
   "source": [
    "- Coefficient of determination, denotes as 𝑅²: amount of variation in y that can be explained by a given regression model (larger 𝑅² indicates a better fit). \n",
    "- The value 𝑅² = 1 corresponds to MSE = 0, that is to the <b>perfect fit</b> since the values of predicted and actual responses fit completely to each other.\n",
    "- Adjusted 𝑅²: A modified version of 𝑅² that has been adjusted for the number of independent variables (IVs) in the model. The adjusted R-squared increases only if the newly added IV significantly improve the model accountability more than what could be improved by simply increasing the # of IVs."
   ]
  },
  {
   "cell_type": "markdown",
   "metadata": {
    "slideshow": {
     "slide_type": "slide"
    }
   },
   "source": [
    "# General Linear Model\n",
    "- A single conceptual model that allows you to perform most statistical tests mentioned in previous slides.\n",
    "- Let's take an example: A task to assess the relationship between psychopathy and a level of clamminess measured by skin-conductance scores when students do hand-shake"
   ]
  },
  {
   "cell_type": "code",
   "execution_count": 6,
   "metadata": {
    "cell_style": "split",
    "collapsed": true,
    "slideshow": {
     "slide_type": "fragment"
    }
   },
   "outputs": [],
   "source": [
    "# Import numerical and plotting libraries\n",
    "import numpy as np\n",
    "import numpy.linalg as npl\n",
    "import matplotlib.pyplot as plt\n",
    "\n",
    "# Only show 6 decimals when printing  \n",
    "np.set_printoptions(precision=6)"
   ]
  },
  {
   "cell_type": "code",
   "execution_count": 27,
   "metadata": {
    "cell_style": "split",
    "collapsed": true,
    "slideshow": {
     "slide_type": "fragment"
    }
   },
   "outputs": [],
   "source": [
    "psychopathy = [11.416,  4.514,   12.204,  14.835,\n",
    "               8.416,   6.563,   17.343,  13.02,\n",
    "               15.19 ,  11.902,  22.721,  22.324]\n",
    "\n",
    "clammy = [0.389,  0.2  ,  0.241,  0.463,\n",
    "          4.585,  1.097,  1.642,  4.972,\n",
    "          7.957,  5.585,  5.527,  6.964]"
   ]
  },
  {
   "cell_type": "code",
   "execution_count": 8,
   "metadata": {
    "cell_style": "split",
    "collapsed": true,
    "slideshow": {
     "slide_type": "subslide"
    }
   },
   "outputs": [
    {
     "data": {
      "text/plain": [
       "Text(0, 0.5, 'Psychopathy score')"
      ]
     },
     "execution_count": 8,
     "metadata": {},
     "output_type": "execute_result"
    },
    {
     "data": {
      "image/png": "[encoded data removed]",
      "text/plain": [
       "<Figure size 432x288 with 1 Axes>"
      ]
     },
     "metadata": {
      "needs_background": "light"
     },
     "output_type": "display_data"
    }
   ],
   "source": [
    "plt.plot(clammy, psychopathy, '+')\n",
    "plt.xlabel('Clamminess of handshake')\n",
    "plt.ylabel('Psychopathy score')"
   ]
  },
  {
   "cell_type": "markdown",
   "metadata": {
    "cell_style": "split",
    "slideshow": {
     "slide_type": "fragment"
    }
   },
   "source": [
    "- Maybe some linear relationship? ...\n",
    "- One can draw a line that can explain their relationship based on a first-order linear equation ($y = c + bx$).\n",
    "- Let's try an intercept of an 10 slope 0.9:"
   ]
  },
  {
   "cell_type": "code",
   "execution_count": 9,
   "metadata": {
    "cell_style": "center",
    "collapsed": true,
    "slideshow": {
     "slide_type": "subslide"
    }
   },
   "outputs": [
    {
     "data": {
      "text/plain": [
       "Text(0.5, 1.0, 'Clammy vs psychopathy with guessed line')"
      ]
     },
     "execution_count": 9,
     "metadata": {},
     "output_type": "execute_result"
    },
    {
     "data": {
      "image/png": "[encoded data removed]",
      "text/plain": [
       "<Figure size 432x288 with 1 Axes>"
      ]
     },
     "metadata": {
      "needs_background": "light"
     },
     "output_type": "display_data"
    }
   ],
   "source": [
    "def my_line(x):\n",
    "    # My prediction for psychopathy given clamminess\n",
    "    return 10 + 0.9 * x\n",
    "\n",
    "x_vals = [0, max(clammy)]\n",
    "y_vals = [my_line(0), my_line(max(clammy))]\n",
    "\n",
    "# Plot the data\n",
    "plt.plot(clammy, psychopathy, '+')\n",
    "plt.plot(x_vals, y_vals)\n",
    "plt.xlabel('Clamminess of handshake')\n",
    "plt.ylabel('Psychopathy score')\n",
    "plt.title('Clammy vs psychopathy with guessed line')"
   ]
  },
  {
   "cell_type": "markdown",
   "metadata": {
    "slideshow": {
     "slide_type": "subslide"
    }
   },
   "source": [
    "- Our model: $y_{i}\\ \\approx c + bx_{i}$ where $c$ is the intercept and $b$ is the slope (our heuristic: $y_{i}\\ \\approx 10 + 0.9x_{i}$)\n",
    "- Note the meaning of \"$\\approx$\" above: our model cannot explain all the variation in our psychopathy data. Thus we need another term to represent this error ($\\varepsilon$).\n",
    "- Now let's build a matrix form of this model as done in the previous example."
   ]
  },
  {
   "cell_type": "markdown",
   "metadata": {
    "cell_style": "split",
    "slideshow": {
     "slide_type": "fragment"
    }
   },
   "source": [
    "$\\left[\\begin{array}{c}\n",
    "11.416 \\\\\n",
    "4.514 \\\\\n",
    "12.204 \\\\\n",
    "14.835 \\\\\n",
    "8.416 \\\\\n",
    "6.563 \\\\\n",
    "17.343 \\\\\n",
    "13.02 \\\\\n",
    "15.19 \\\\\n",
    "11.902 \\\\\n",
    "22.721 \\\\\n",
    "22.324\n",
    "\\end{array}\\right]=\\left[\\begin{array}{cc}\n",
    "1 & 0.389 \\\\\n",
    "1 & 0.2 \\\\\n",
    "1 & 0.241 \\\\\n",
    "1 & 0.463 \\\\\n",
    "1 & 4.585 \\\\\n",
    "1 & 1.097 \\\\\n",
    "1 & 1.642 \\\\\n",
    "1 & 4.972 \\\\\n",
    "1 & 7.957 \\\\\n",
    "1 & 5.585 \\\\\n",
    "1 & 5.527 \\\\\n",
    "1 & 6.964\n",
    "\\end{array}\\right]$\n",
    "$\\left[\\begin{array}{l}\n",
    "c \\\\\n",
    "b\n",
    "\\end{array}\\right]$\n",
    "+\n",
    "$\\left[\\begin{array}{c}\n",
    "e_{1} \\\\\n",
    "e_{2} \\\\\n",
    "e_{3} \\\\\n",
    "e_{4} \\\\\n",
    "e_{5} \\\\\n",
    "e_{6} \\\\\n",
    "e_{7} \\\\\n",
    "e_{8} \\\\\n",
    "e_{9} \\\\\n",
    "e_{10} \\\\\n",
    "e_{11} \\\\\n",
    "e_{12}\n",
    "\\end{array}\\right]$<br><br>\n",
    "In symbols:<br>\n",
    "$\\vec{y}=X\\overrightarrow\\theta+\\vec{e}$, <br> where X is called a 'design matrix', $\\theta$ is parameters and $e$ is a 'residual' or 'error'."
   ]
  },
  {
   "cell_type": "markdown",
   "metadata": {
    "cell_style": "split",
    "slideshow": {
     "slide_type": "fragment"
    }
   },
   "source": [
    "- What if you want to consider an aging effect?\n",
    "- Multiple regression allows to have multiple independent variables. So let's add an age term."
   ]
  },
  {
   "cell_type": "code",
   "execution_count": 26,
   "metadata": {
    "cell_style": "split",
    "collapsed": true,
    "slideshow": {
     "slide_type": "fragment"
    }
   },
   "outputs": [],
   "source": [
    "age = [22.5,  25.3,  24.6,  \n",
    "       21.4, 20.7,  23.3,  \n",
    "       23.8,  21.7, 21.3,  \n",
    "       25.2,  24.6,  21.8]\n",
    "\n",
    "\n",
    "\n",
    "\n"
   ]
  },
  {
   "cell_type": "markdown",
   "metadata": {
    "cell_style": "center",
    "slideshow": {
     "slide_type": "slide"
    }
   },
   "source": [
    "$\\left[\\begin{array}{c}\n",
    "11.416 \\\\\n",
    "4.514 \\\\\n",
    "12.204 \\\\\n",
    "14.835 \\\\\n",
    "8.416 \\\\\n",
    "6.563 \\\\\n",
    "17.343 \\\\\n",
    "13.02 \\\\\n",
    "15.19 \\\\\n",
    "11.902 \\\\\n",
    "22.721 \\\\\n",
    "22.324\n",
    "\\end{array}\\right]=\\left[\\begin{array}{cc}\n",
    "1 & 0.389 & 22.5\\\\\n",
    "1 & 0.2   & 25.3 \\\\\n",
    "1 & 0.241 & 24.6 \\\\\n",
    "1 & 0.463 & 21.4 \\\\\n",
    "1 & 4.585 & 20.7 \\\\\n",
    "1 & 1.097 & 23.3 \\\\\n",
    "1 & 1.642 & 23.8 \\\\\n",
    "1 & 4.972 & 21.7 \\\\\n",
    "1 & 7.957 & 21.3 \\\\\n",
    "1 & 5.585 & 25.2 \\\\\n",
    "1 & 5.527 & 24.6 \\\\\n",
    "1 & 6.964 & 21.8\n",
    "\\end{array}\\right]$\n",
    "$\\left[\\begin{array}{l}\n",
    "c \\\\\n",
    "b\n",
    "\\end{array}\\right]$\n",
    "+\n",
    "$\\left[\\begin{array}{c}\n",
    "e_{1} \\\\\n",
    "e_{2} \\\\\n",
    "e_{3} \\\\\n",
    "e_{4} \\\\\n",
    "e_{5} \\\\\n",
    "e_{6} \\\\\n",
    "e_{7} \\\\\n",
    "e_{8} \\\\\n",
    "e_{9} \\\\\n",
    "e_{10} \\\\\n",
    "e_{11} \\\\\n",
    "e_{12}\n",
    "\\end{array}\\right]$&emsp;&emsp;&emsp;$\\rightarrow$&emsp;&emsp;&emsp;\n",
    "$\\begin{bmatrix} y^{1} \\\\ y^{2} \\\\ y^{3} \\\\ \\vdots \\\\ y^{m} \\end{bmatrix}=\\begin{bmatrix} 1 & X_{1}^{1} & X_{3}^{1} & \\ldots & x_{n}^{1} & \\\\ 1 & X_{1}^{2} & X_{2}^{2} & \\ldots & x_{n}^{2} \\\\ 1 & X_{1}^{3} & X_{2}^{3} & \\ldots & x_{n}^{3} \\\\ \\vdots & \\vdots & \\vdots & \\ddots & \\vdots & \\\\ 1 & X_{1}^{m} & X_{2}^{m} & \\ldots & x_{n}^{m}\\end{bmatrix}\\begin{bmatrix} \\theta _{0} \\\\ \\theta _{1} \\\\ \\theta _{2} \\\\ \\vdots \\\\ \\theta_{n}\\end{bmatrix}+\\begin{bmatrix} e_{0} \\\\ e_{1} \\\\ e_{2} \\\\ \\vdots \\\\ e_{m}\\end{bmatrix}$"
   ]
  },
  {
   "cell_type": "markdown",
   "metadata": {
    "cell_style": "split",
    "slideshow": {
     "slide_type": "fragment"
    }
   },
   "source": [
    "<center>In symbols:</center>\n",
    "<center>${y}_{i}=c+b_{1} x_{1, i}+b_{2} x_{2, i}+...+ b_{3} x_{3, i} + e_{i}$&ensp;&ensp;${\\rightarrow}$&ensp;&ensp;$Y=X\\theta+e$</center><br><br>\n",
    "<center>${MSE}(X,h_{\\theta})=\\dfrac{1}{m}\\sum ^{m}_{i=1}(\\theta^{T}x^{\\left( i\\right) }-y^{( i)})^{2}$\n",
    "- Minimize MSE for all observation  $\\rightarrow$<b><i>Ordinary Least Squres</i></b></center><br><br><br>\n",
    "<center>&ensp;&ensp;${X}^{T}Y=X^{T}X\\theta+X^{T}e$&ensp;&ensp;&ensp;$\\rightarrow$<br>\n",
    "    1. $\\hat\\theta=(X^\\top{X})^{-1}X^\\top{Y}$ if $(X^\\top{X})^{-1}X^\\top$ is invertible.<br>\n",
    "    2. $\\hat\\theta=X^{+}Y$ if $X^\\top{X})^{-1}X^\\top$ is not invertible ($X^{+}$ is pseudoinverse).\n",
    "<center>$\\hat\\theta$ is the value of $\\theta$ that minimizes the cost function.</center>"
   ]
  },
  {
   "cell_type": "markdown",
   "metadata": {
    "cell_style": "split",
    "slideshow": {
     "slide_type": "fragment"
    }
   },
   "source": [
    "<center><img src='Figure/Fig2-8.png'></center>"
   ]
  },
  {
   "cell_type": "code",
   "execution_count": 11,
   "metadata": {
    "cell_style": "split",
    "collapsed": true,
    "slideshow": {
     "slide_type": "slide"
    }
   },
   "outputs": [
    {
     "data": {
      "text/plain": [
       "array([[ 1.,  0.,  1.],\n",
       "       [ 1.,  5.,  1.],\n",
       "       [ 1., 15.,  2.],\n",
       "       [ 1., 25.,  5.],\n",
       "       [ 1., 35., 11.],\n",
       "       [ 1., 45., 15.],\n",
       "       [ 1., 55., 34.],\n",
       "       [ 1., 60., 35.]])"
      ]
     },
     "execution_count": 11,
     "metadata": {},
     "output_type": "execute_result"
    }
   ],
   "source": [
    "X = np.column_stack((np.ones(12), clammy, age))\n",
    "x"
   ]
  },
  {
   "cell_type": "code",
   "execution_count": 12,
   "metadata": {
    "cell_style": "split",
    "collapsed": true,
    "slideshow": {
     "slide_type": "fragment"
    }
   },
   "outputs": [
    {
     "data": {
      "text/plain": [
       "array([6.458923, 1.027054, 0.152958])"
      ]
     },
     "execution_count": 12,
     "metadata": {},
     "output_type": "execute_result"
    }
   ],
   "source": [
    "B = npl.pinv(X).dot(psychopathy)\n",
    "B\n",
    "\n",
    "\n",
    "\n",
    "\n",
    "\n",
    "\n"
   ]
  },
  {
   "cell_type": "code",
   "execution_count": 13,
   "metadata": {
    "cell_style": "split",
    "collapsed": true,
    "slideshow": {
     "slide_type": "fragment"
    }
   },
   "outputs": [],
   "source": [
    "def my_best_line(x):\n",
    "    # Best prediction for psychopathy given clamminess\n",
    "    return B[0] + B[1] * x"
   ]
  },
  {
   "cell_type": "code",
   "execution_count": 14,
   "metadata": {
    "cell_style": "split",
    "collapsed": true
   },
   "outputs": [
    {
     "data": {
      "text/plain": [
       "Text(0, 0.5, 'Psychopathy score')"
      ]
     },
     "execution_count": 14,
     "metadata": {},
     "output_type": "execute_result"
    },
    {
     "data": {
      "image/png": "[encoded data removed]",
      "text/plain": [
       "<Figure size 432x288 with 1 Axes>"
      ]
     },
     "metadata": {
      "needs_background": "light"
     },
     "output_type": "display_data"
    }
   ],
   "source": [
    "x_vals = [0, max(clammy)]\n",
    "y_vals = [my_best_line(0), my_best_line(max(clammy))]\n",
    "plt.plot(clammy, psychopathy, '+')\n",
    "plt.plot(x_vals, y_vals)\n",
    "plt.xlabel('Clamminess of handshake')\n",
    "plt.ylabel('Psychopathy score')"
   ]
  },
  {
   "cell_type": "markdown",
   "metadata": {
    "slideshow": {
     "slide_type": "slide"
    }
   },
   "source": [
    "# Contrast\n",
    "- Our example: $Psychopathy=\\theta _{0}+\\theta_{1}\\times Clamminess +\\theta_{2}\\times Age$<br>\n",
    "- Using the equation $\\hat\\theta=(X^\\top{X})^{-1}X^\\top{Y}$, we can estimate the optimal $\\hat\\theta_{0}$, $\\hat\\theta_{1}$, and $\\hat\\theta_{2}$ that minimize the actual data and regression line (i.e., MSE).\n",
    "- Now, you want to know which variable (e.g., clamminess or age?) is more important to predict the level of psychopathy."
   ]
  },
  {
   "cell_type": "markdown",
   "metadata": {
    "slideshow": {
     "slide_type": "fragment"
    }
   },
   "source": [
    "- The concept of 'Contrast' $(C)$ appear here, which is multiplied by $\\hat\\theta$ (i.e., $C^{T}\\hat\\theta$ ) that can select the variable of interest. More formally, the 'Contrast' is a set of coefficients that '<i>contrast</i>' the paramter estimates ($\\hat\\theta$).<br><br>\n",
    "- For instance, if your interest is the effect of clamminess, your contrat is \n",
    "$\\tiny\\left[\\begin{array}{c}\n",
    "0 \\\\\n",
    "1 \\\\\n",
    "0\n",
    "\\end{array}\\right]$, and if its transposed form is multiplied with \n",
    "$\\tiny\\left[\\begin{array}{c}\n",
    "\\hat\\theta_{0} \\\\\n",
    "\\hat\\theta_{1} \\\\\n",
    "\\hat\\theta_{2}\n",
    "\\end{array}\\right]$, then it (=$C^{T}\\hat\\theta$) serves a role of variable selection providing $\\hat\\theta_{1}$ (=our estimate of the slope relating clamminess to psychopathy).<br><br>"
   ]
  },
  {
   "cell_type": "markdown",
   "metadata": {
    "slideshow": {
     "slide_type": "fragment"
    }
   },
   "source": [
    "- Now, your hypothesis is whether this slope (=$\\hat\\theta_{1}$) is significantly different from zero.\n",
    "    - Null hypothesis: $\\hat\\theta_{1} = 0 $\n",
    "    - Alternative hypothesis: $\\hat\\theta_{1} \\neq 0 $"
   ]
  },
  {
   "cell_type": "markdown",
   "metadata": {
    "slideshow": {
     "slide_type": "subslide"
    }
   },
   "source": [
    "# Statistical significance\n",
    "- t statistic $=\\frac{contrast\\ of \\\\estimated \\\\parameters}{\\sqrt{variance\\\\ estimate}}=\\frac{c^{T} \\hat{\\theta}}{\\sqrt{\\operatorname{var}\\left(c^{T} \\hat{\\theta}\\right)}} = \\frac{c^{T} \\hat{\\theta}}{\\sqrt{\\hat{\\sigma}^{2} c^{T}\\left(X^{T} X\\right)^{-1} c}} \\sim t_{N-p}$, where $\\hat{\\sigma}^{2} = \\frac{\\widehat{\\varepsilon}^{T} \\hat{\\varepsilon}}{N-p}$, N = # of samples, and p = # of independent variables."
   ]
  },
  {
   "cell_type": "code",
   "execution_count": 15,
   "metadata": {
    "cell_style": "center",
    "collapsed": true,
    "slideshow": {
     "slide_type": "subslide"
    }
   },
   "outputs": [],
   "source": [
    "from scipy.stats import t as t_dist\n",
    "\n",
    "def t_stat(y, X, c):\n",
    "    \"\"\" betas, t statistic and significance test given data, design matrix, contrast\n",
    "        This is OLS estimation; we assume the errors to have independent\n",
    "        and identical normal distributions around zero for each $i$ in $\\e_i$ (i.i.d).\"\"\"\n",
    "    \n",
    "    # Make sure y, X, c are all arrays\n",
    "    y = np.asarray(y)\n",
    "    X = np.asarray(X)\n",
    "    c = np.atleast_2d(c).T  # As column vector\n",
    "    \n",
    "    # Calculate the parameters - b hat\n",
    "    beta = npl.pinv(X).dot(y)\n",
    "    # The fitted values - y hat\n",
    "    fitted = X.dot(beta)\n",
    "    # Residual error\n",
    "    errors = y - fitted\n",
    "    \n",
    "    # Residual sum of squares\n",
    "    RSS = (errors**2).sum(axis=0)\n",
    "    \n",
    "    # Degrees of freedom is the number of observations n minus the number\n",
    "    # of independent regressors we have used.  If all the regressor\n",
    "    # columns in X are independent then the (matrix rank of X) == p\n",
    "    # (where p the number of columns in X). If there is one column that\n",
    "    # can be expressed as a linear sum of the other columns then\n",
    "    # (matrix rank of X) will be p - 1 - and so on.\n",
    "    df = X.shape[0] - npl.matrix_rank(X)\n",
    "    \n",
    "    # Mean residual sum of squares\n",
    "    MRSS = RSS / df\n",
    "    # calculate bottom half of t statistic\n",
    "    SE = np.sqrt(MRSS * c.T.dot(npl.pinv(X.T.dot(X)).dot(c)))\n",
    "    t = c.T.dot(beta) / SE\n",
    "    \n",
    "    # Get p value for t value using cumulative density dunction\n",
    "    # (CDF) of t distribution\n",
    "    ltp = t_dist.cdf(t, df) # lower tail p\n",
    "    p = 1 - ltp # upper tail p\n",
    "    return beta, t, df, p"
   ]
  },
  {
   "cell_type": "code",
   "execution_count": 16,
   "metadata": {
    "cell_style": "split",
    "slideshow": {
     "slide_type": "fragment"
    }
   },
   "outputs": [
    {
     "data": {
      "text/plain": [
       "(array([[1.771261]]), array([[0.055143]]))"
      ]
     },
     "execution_count": 16,
     "metadata": {},
     "output_type": "execute_result"
    }
   ],
   "source": [
    "X = np.column_stack((np.ones(12), clammy, age))\n",
    "Y = np.asarray(psychopathy)\n",
    "B, t, df, p = t_stat(Y, X, [0, 1, 0])\n",
    "t, p"
   ]
  },
  {
   "cell_type": "code",
   "execution_count": 17,
   "metadata": {
    "cell_style": "split"
   },
   "outputs": [
    {
     "data": {
      "text/plain": [
       "(array([[0.150201]]), array([[0.441959]]))"
      ]
     },
     "execution_count": 17,
     "metadata": {},
     "output_type": "execute_result"
    }
   ],
   "source": [
    "X = np.column_stack((np.ones(12), clammy, age))\n",
    "Y = np.asarray(psychopathy)\n",
    "B, t, df, p = t_stat(Y, X, [0, 0, 1])\n",
    "t, p"
   ]
  },
  {
   "cell_type": "markdown",
   "metadata": {
    "slideshow": {
     "slide_type": "slide"
    }
   },
   "source": [
    "### Isn't it simply multiple linear regression? Why is it then called 'General' linear model? \n",
    "- In fact, if combining a design matrix and contrast, any analyese below can be represented and tested by GLM.\n",
    "    - One/Two sample or paired t-test\n",
    "    - ANOVA, ANCOVA, MANOVA, MANCOVA\n",
    "    - Factorial design\n",
    "    - Correlation, partial correlation\n",
    "    - Simple, Multiple linear regression\n",
    "    <br><br>\n",
    "$\\begin{bmatrix} y^{1} \\\\ y^{2} \\\\ y^{3} \\\\ \\vdots \\\\ y^{m} \\end{bmatrix}=\\begin{bmatrix} 1 & X_{1}^{1} & X_{3}^{1} & \\ldots & x_{n}^{1} & \\\\ 1 & X_{1}^{2} & X_{2}^{2} & \\ldots & x_{n}^{2} \\\\ 1 & X_{1}^{3} & X_{2}^{3} & \\ldots & x_{n}^{3} \\\\ \\vdots & \\vdots & \\vdots & \\ddots & \\vdots & \\\\ 1 & X_{1}^{m} & X_{2}^{m} & \\ldots & x_{n}^{m}\\end{bmatrix}\\begin{bmatrix} \\theta _{0} \\\\ \\theta _{1} \\\\ \\theta _{2} \\\\ \\vdots \\\\ \\theta_{n}\\end{bmatrix}+\\begin{bmatrix} e_{0} \\\\ e_{1} \\\\ e_{2} \\\\ \\vdots \\\\ e_{m}\\end{bmatrix}$<br>\n",
    "- Expressing group membership in a design matrix allows us to perform ANOVA (or two sample t-test)."
   ]
  },
  {
   "cell_type": "markdown",
   "metadata": {
    "cell_style": "split",
    "slideshow": {
     "slide_type": "slide"
    }
   },
   "source": [
    "# Dummy coding and GLM\n",
    "- Go back to the same example (i.e. relationship between psychopathy, clamminess, and age). \n",
    "- Let's say it turns out that among 12 samples, the first 4 students come from SKKU, the second 4 from SNU, and another last 4 come from Yonsei.\n",
    "- Unlike clamminess or age, this group information is not continuous but categorical variables, which need to be converted into the dummy variable.\n",
    "<br><br>\n",
    "- Dummy variable: a binary-encoded number to indicate each membership of a categorical variable (e.g., gender, race)."
   ]
  },
  {
   "cell_type": "code",
   "execution_count": 18,
   "metadata": {
    "cell_style": "split",
    "collapsed": true,
    "slideshow": {
     "slide_type": "fragment"
    }
   },
   "outputs": [
    {
     "data": {
      "text/plain": [
       "array([[1, 0, 0],\n",
       "       [1, 0, 0],\n",
       "       [1, 0, 0],\n",
       "       [1, 0, 0],\n",
       "       [0, 1, 0],\n",
       "       [0, 1, 0],\n",
       "       [0, 1, 0],\n",
       "       [0, 1, 0],\n",
       "       [0, 0, 1],\n",
       "       [0, 0, 1],\n",
       "       [0, 0, 1],\n",
       "       [0, 0, 1]])"
      ]
     },
     "execution_count": 18,
     "metadata": {},
     "output_type": "execute_result"
    }
   ],
   "source": [
    "# One-way ANOVA\n",
    "SKK_indicator = [1, 1, 1, 1, 0, 0, 0, 0, 0, 0, 0, 0]\n",
    "SNU_indicator = [0, 0, 0, 0, 1, 1, 1, 1, 0, 0, 0, 0]\n",
    "YON_indicator = [0, 0, 0, 0, 0, 0, 0, 0, 1, 1, 1, 1]\n",
    "\n",
    "# Design matrix (ANOVA)\n",
    "X = np.column_stack((SKK_indicator, SNU_indicator, YON_indicator))\n",
    "X"
   ]
  },
  {
   "cell_type": "markdown",
   "metadata": {
    "cell_style": "split",
    "slideshow": {
     "slide_type": "fragment"
    }
   },
   "source": [
    "- $\\tiny\\hat\\theta=(X^\\top{X})^{-1}X^\\top{Y}$ if $\\tiny(X^\\top{X})^{-1}X^\\top$ is invertible.<br>\n",
    "- $\\tiny\\hat\\theta=X^{+}Y$ if $\\tiny(X^\\top{X})^{-1}X^\\top$ is not invertible ($X^{+}$ is pseudoinverse)."
   ]
  },
  {
   "cell_type": "code",
   "execution_count": 19,
   "metadata": {
    "cell_style": "split",
    "collapsed": true,
    "slideshow": {
     "slide_type": "fragment"
    }
   },
   "outputs": [
    {
     "data": {
      "text/plain": [
       "array([10.74225, 11.3355 , 18.03425])"
      ]
     },
     "execution_count": 19,
     "metadata": {},
     "output_type": "execute_result"
    }
   ],
   "source": [
    "B = npl.pinv(X).dot(psychopathy)\n",
    "B"
   ]
  },
  {
   "cell_type": "code",
   "execution_count": 20,
   "metadata": {
    "cell_style": "center",
    "collapsed": true,
    "slideshow": {
     "slide_type": "fragment"
    }
   },
   "outputs": [
    {
     "data": {
      "text/plain": [
       "10.74225"
      ]
     },
     "execution_count": 20,
     "metadata": {},
     "output_type": "execute_result"
    }
   ],
   "source": [
    "# SSKU\n",
    "np.mean(psychopathy[:4])"
   ]
  },
  {
   "cell_type": "code",
   "execution_count": 21,
   "metadata": {
    "collapsed": true
   },
   "outputs": [
    {
     "data": {
      "text/plain": [
       "11.3355"
      ]
     },
     "execution_count": 21,
     "metadata": {},
     "output_type": "execute_result"
    }
   ],
   "source": [
    "# SNU\n",
    "np.mean(psychopathy[4:8])"
   ]
  },
  {
   "cell_type": "code",
   "execution_count": 22,
   "metadata": {
    "collapsed": true
   },
   "outputs": [
    {
     "data": {
      "text/plain": [
       "18.03425"
      ]
     },
     "execution_count": 22,
     "metadata": {},
     "output_type": "execute_result"
    }
   ],
   "source": [
    "# Yonsei\n",
    "np.mean(psychopathy[8:])"
   ]
  },
  {
   "cell_type": "code",
   "execution_count": 23,
   "metadata": {
    "collapsed": true,
    "slideshow": {
     "slide_type": "fragment"
    }
   },
   "outputs": [
    {
     "data": {
      "text/plain": [
       "(array([[2.340356]]), array([[0.021997]]))"
      ]
     },
     "execution_count": 23,
     "metadata": {},
     "output_type": "execute_result"
    }
   ],
   "source": [
    "# Contrast (Yonsei vs. (SKKU | SNU)\n",
    "B, t, df, p = t_stat(psychopathy, X, [-0.5, -0.5, 1])\n",
    "t, p\n",
    "\n",
    "# The design matrix and contrast express an one-way ANOVA model representing the eeffect of group membership"
   ]
  },
  {
   "cell_type": "code",
   "execution_count": 24,
   "metadata": {
    "collapsed": true,
    "slideshow": {
     "slide_type": "slide"
    }
   },
   "outputs": [
    {
     "data": {
      "text/plain": [
       "array([[ 1.   ,  0.   ,  0.   ,  0.389, 22.5  ],\n",
       "       [ 1.   ,  0.   ,  0.   ,  0.2  , 25.3  ],\n",
       "       [ 1.   ,  0.   ,  0.   ,  0.241, 24.6  ],\n",
       "       [ 1.   ,  0.   ,  0.   ,  0.463, 21.4  ],\n",
       "       [ 0.   ,  1.   ,  0.   ,  4.585, 20.7  ],\n",
       "       [ 0.   ,  1.   ,  0.   ,  1.097, 23.3  ],\n",
       "       [ 0.   ,  1.   ,  0.   ,  1.642, 23.8  ],\n",
       "       [ 0.   ,  1.   ,  0.   ,  4.972, 21.7  ],\n",
       "       [ 0.   ,  0.   ,  1.   ,  7.957, 21.3  ],\n",
       "       [ 0.   ,  0.   ,  1.   ,  5.585, 25.2  ],\n",
       "       [ 0.   ,  0.   ,  1.   ,  5.527, 24.6  ],\n",
       "       [ 0.   ,  0.   ,  1.   ,  6.964, 21.8  ]])"
      ]
     },
     "execution_count": 24,
     "metadata": {},
     "output_type": "execute_result"
    }
   ],
   "source": [
    "# ANCOVA\n",
    "SKK_indicator = [1, 1, 1, 1, 0, 0, 0, 0, 0, 0, 0, 0]\n",
    "SNU_indicator = [0, 0, 0, 0, 1, 1, 1, 1, 0, 0, 0, 0]\n",
    "YON_indicator = [0, 0, 0, 0, 0, 0, 0, 0, 1, 1, 1, 1]\n",
    "\n",
    "# Design matrix (ANOVA)\n",
    "X = np.column_stack((SKK_indicator, SNU_indicator, YON_indicator, clammy, age))\n",
    "X"
   ]
  },
  {
   "cell_type": "code",
   "execution_count": 25,
   "metadata": {
    "collapsed": true,
    "slideshow": {
     "slide_type": "fragment"
    }
   },
   "outputs": [
    {
     "data": {
      "text/plain": [
       "(array([[-0.654275]]), array([[0.733084]]))"
      ]
     },
     "execution_count": 25,
     "metadata": {},
     "output_type": "execute_result"
    }
   ],
   "source": [
    "# Contrast (Yonsei vs. (SKKU | SNU)\n",
    "B, t, df, p = t_stat(psychopathy, X, [0, 0, 0, 1, 0])\n",
    "t, p"
   ]
  },
  {
   "cell_type": "markdown",
   "metadata": {
    "slideshow": {
     "slide_type": "slide"
    }
   },
   "source": [
    "# Interim summary\n",
    "- Verification in data mining refers a set of statsitcal tests to assess predefined hypotheses.\n",
    "- A wide range of statistical tests exist to compare the group mean effect and assess correlation/interaction effects.\n",
    "- General Linear Model (GLM) provides a multi-potent framework to perform most statistical tests mentioned, based on an integrative form of linear models.\n",
    "- Depending on how to construct a design matrix and setup the contast, one can express various forms of statsitcal tests, a unique strength that makes this approach widely used in the neuroscience. \n",
    "- GLM is inherently a well-fit tool to perform massive univarate/multivariate statistical tests. However, in order to obtain proper statistics out of tens of thousans of massive tests, one has to carefully consider a multiple-testing issue. "
   ]
  }
 ],
 "metadata": {
  "celltoolbar": "Slideshow",
  "kernelspec": {
   "display_name": "Python 3",
   "language": "python",
   "name": "python3"
  },
  "language_info": {
   "codemirror_mode": {
    "name": "ipython",
    "version": 3
   },
   "file_extension": ".py",
   "mimetype": "text/x-python",
   "name": "python",
   "nbconvert_exporter": "python",
   "pygments_lexer": "ipython3",
   "version": "3.7.6"
  }
 },
 "nbformat": 4,
 "nbformat_minor": 4
}
