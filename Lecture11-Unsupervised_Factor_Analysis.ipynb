{
 "cells": [
  {
   "cell_type": "markdown",
   "metadata": {},
   "source": [
    "# Before jumping to the code implementation\n",
    "***\n",
    "- Git을 사용하지 않고 해당 ipynb파일만 다운받고 싶으면 wget이나 curl을 사용하여도 좋습니다. \n",
    "    - wget https://raw.githubusercontent.com/COMBINE-SKKU/bio_data_mining/master/Lecture11-Unsupervised_Factor_Analysis.ipynb\n",
    "    - curl https://raw.githubusercontent.com/COMBINE-SKKU/bio_data_mining/master/Lecture11-Unsupervised_Factor_Analysis.ipynb --output Lecture11-Unsupervised_Factor_Analysis.ipynb\n",
    "<br><br><br>    \n",
    "- 동영상과 같이 git clone을 사용하고 싶은 학생이 주의하여야 할 점은 git은 원칙적으로 이미 존재하는 디렉토리에는 clone을 하지 않으므로 디렉토리 (예를 들자면 /Documents/BioDataMining)를 지워주고 실행하여야 합니다. \n",
    "- Open the terminal and make a directory dedicated for this class code implementation (e.g., mkdir ~/Documents/BioDataMining)\n",
    "- Install Git (https://git-scm.com/book/en/v2/Getting-Started-Installing-Git)\n",
    "- Go to the directory for this class, and type: git clone https://github.com/COMBINE-SKKU/bio_data_mining.git\n",
    "- If you are a newbie for programming a python and jupyter notebook, please install anaconda \n",
    "    - Window: https://problemsolvingwithpython.com/01-Orientation/01.03-Installing-Anaconda-on-Windows/\n",
    "    - Mac: https://problemsolvingwithpython.com/01-Orientation/01.04-Installing-Anaconda-on-MacOS/\n",
    "    - Linux: https://problemsolvingwithpython.com/01-Orientation/01.05-Installing-Anaconda-on-Linux/\n",
    "- And learn how to open a jupyter notebook (https://www.youtube.com/watch?v=OJMILWh6ARY)\n",
    "- Run the following codes."
   ]
  },
  {
   "cell_type": "markdown",
   "metadata": {
    "slideshow": {
     "slide_type": "slide"
    }
   },
   "source": [
    "# Factor Analysis\n",
    "---\n",
    "- Factor Analysis (FA): It is an unsupervised technique to extract maximum common variance from all variables and puts them into a common score. It helps in data interpretations by reducing the number of variables.\n",
    "<br><br>\n",
    "<img src='https://raw.githubusercontent.com/COMBINE-SKKU/combine-skku/master/class/week11/Fig11-1.png' width=\"1000\"/>"
   ]
  },
  {
   "cell_type": "markdown",
   "metadata": {
    "slideshow": {
     "slide_type": "subslide"
    }
   },
   "source": [
    "<img src='https://raw.githubusercontent.com/COMBINE-SKKU/combine-skku/master/class/week11/Fig11-2.png' width=\"400\"/>\n",
    "<br>\n",
    "\n",
    "- Observed variables are modeled as a linear combination of unobserved variable called 'factors' and 'error' terms.\n",
    "- Each factor explains a particular amount of variance in the observed variables.\n",
    "- Either an exploratory or confirmatory data analysis method"
   ]
  },
  {
   "cell_type": "markdown",
   "metadata": {
    "slideshow": {
     "slide_type": "slide"
    }
   },
   "source": [
    "# Types of Factor Analysis\n",
    "---\n",
    "- Exploratory Factor Analysis (EFA): It is a technique used when the researcher does not have any hypothesis for underlying structures of a given data. Therefore it extracts the factors in a purely data driven way. It is the most popular approach among social science researchers. Its basic assumption is that any observed variable is directly associated with any factor.\n",
    "- Confirmatory Factor Analysis (CFA): It aims to confirm validity of (researcher's hypothetical) factors underlying the observed variables. Its basic assumption is that each factor is associated with a particular set of observed variables.\n",
    "\n",
    "# How does factor analysis work?\n",
    "---\n",
    "- Factor extraction: In this step, the number of factors and approach for extraction are selected using variance partitioning methods such as principal components analysis and common factor analysis (e.g., EM algorithm).\n",
    "- Factor Rotation: In this step, rotation tries to convert factors into uncorrelated factors — the main goal of this step to improve the overall interpretability. There are lots of rotation methods that are available such as: Varimax rotation method, Quartimax rotation method, and Promax rotation method."
   ]
  },
  {
   "cell_type": "markdown",
   "metadata": {
    "cell_style": "center",
    "slideshow": {
     "slide_type": "slide"
    }
   },
   "source": [
    "# What is the factor rotation?\n",
    "---\n",
    "<img src='https://raw.githubusercontent.com/COMBINE-SKKU/combine-skku/master/class/week11/Fig11-5.png' width=\"1000\"/>"
   ]
  },
  {
   "cell_type": "markdown",
   "metadata": {
    "slideshow": {
     "slide_type": "slide"
    }
   },
   "source": [
    "- Unrotated results from a factor analysis – as presented above - is not easy to interpret, although the plot helps.\n",
    "- Simply, we use the term “rotation” because the axes are being rotated so that the clusters of items fall as closely as possible to them.\n",
    "- One of the main reasons for this rotation is to help the interpretation of factor loadings.\n",
    "<br><br>\n",
    "<img src='https://raw.githubusercontent.com/COMBINE-SKKU/combine-skku/master/class/week11/Fig11-8.png' width=\"1000\"/>"
   ]
  },
  {
   "cell_type": "markdown",
   "metadata": {
    "slideshow": {
     "slide_type": "slide"
    }
   },
   "source": [
    "# Different types of rotations\n",
    "---\n",
    "- Rotation methods fall into two broad categories: <b>orthogonal</b> and <b>oblique</b> (referring to the angle maintained between the X and Y axes). \n",
    "- Orthogonal rotations produce factors that are uncorrelated (<i>i.e.,</i> maintain a 90° angle between axes). \n",
    "- Oblique methods allow the factors to correlate (<i>i.e.,</i> allow the X and Y axes to assume a different angle than 90°).\n",
    "- Traditionally, researchers have been guided to orthogonal rotation because uncorrelated factors are more easily interpretable.\n",
    "- See https://scholarworks.umass.edu/cgi/viewcontent.cgi?article=1251&context=pare for more details."
   ]
  },
  {
   "cell_type": "markdown",
   "metadata": {
    "slideshow": {
     "slide_type": "fragment"
    }
   },
   "source": [
    "# Factor Analysis Vs. Principle Component Analysis\n",
    "---\n",
    "- PCA components explain the maximum amount of variance while factor analysis explains the covariance in data.\n",
    "- PCA components are fully orthogonal to each other whereas factor analysis does not require factors to be orthogonal.\n",
    "- PCA component is a linear combination of the observed variable while in FA, the observed variables are linear combinations of the unobserved variable or factor."
   ]
  },
  {
   "cell_type": "markdown",
   "metadata": {
    "slideshow": {
     "slide_type": "slide"
    }
   },
   "source": [
    "# Factor Analysis in python using factor_analyzer package\n",
    "---"
   ]
  },
  {
   "cell_type": "code",
   "execution_count": 1,
   "metadata": {},
   "outputs": [],
   "source": [
    "# Import required libraries\n",
    "# conda install -c ets factor_analyzer\n",
    "import pandas as pd\n",
    "from sklearn.datasets import load_iris\n",
    "from factor_analyzer import FactorAnalyzer\n",
    "import matplotlib.pyplot as plt"
   ]
  },
  {
   "cell_type": "markdown",
   "metadata": {
    "slideshow": {
     "slide_type": "fragment"
    }
   },
   "source": [
    "# Loading Data\n",
    "---\n",
    "- Let's perform factor analysis on BFI (dataset based on personality assessment project), which were collected using a 6 point response scale: <b>1 Very Inaccurate, 2 Moderately Inaccurate, 3 Slightly Inaccurate 4 Slightly Accurate, 5 Moderately Accurate, and 6 Very Accurate</b>. \n",
    "- You can also download this dataset from the following the link: https://vincentarelbundock.github.io/Rdatasets/datasets.html"
   ]
  },
  {
   "cell_type": "code",
   "execution_count": 2,
   "metadata": {},
   "outputs": [
    {
     "data": {
      "text/plain": [
       "Index(['A1', 'A2', 'A3', 'A4', 'A5', 'C1', 'C2', 'C3', 'C4', 'C5', 'E1', 'E2',\n",
       "       'E3', 'E4', 'E5', 'N1', 'N2', 'N3', 'N4', 'N5', 'O1', 'O2', 'O3', 'O4',\n",
       "       'O5', 'gender', 'education', 'age'],\n",
       "      dtype='object')"
      ]
     },
     "execution_count": 2,
     "metadata": {},
     "output_type": "execute_result"
    }
   ],
   "source": [
    "df = pd.read_csv(\"https://vincentarelbundock.github.io/Rdatasets/csv/psych/bfi.csv\", index_col=0)\n",
    "df.columns"
   ]
  },
  {
   "cell_type": "code",
   "execution_count": 3,
   "metadata": {
    "scrolled": true,
    "slideshow": {
     "slide_type": "subslide"
    }
   },
   "outputs": [
    {
     "name": "stdout",
     "output_type": "stream",
     "text": [
      "<class 'pandas.core.frame.DataFrame'>\n",
      "Int64Index: 2436 entries, 61617 to 67560\n",
      "Data columns (total 25 columns):\n",
      " #   Column  Non-Null Count  Dtype  \n",
      "---  ------  --------------  -----  \n",
      " 0   A1      2436 non-null   float64\n",
      " 1   A2      2436 non-null   float64\n",
      " 2   A3      2436 non-null   float64\n",
      " 3   A4      2436 non-null   float64\n",
      " 4   A5      2436 non-null   float64\n",
      " 5   C1      2436 non-null   float64\n",
      " 6   C2      2436 non-null   float64\n",
      " 7   C3      2436 non-null   float64\n",
      " 8   C4      2436 non-null   float64\n",
      " 9   C5      2436 non-null   float64\n",
      " 10  E1      2436 non-null   float64\n",
      " 11  E2      2436 non-null   float64\n",
      " 12  E3      2436 non-null   float64\n",
      " 13  E4      2436 non-null   float64\n",
      " 14  E5      2436 non-null   float64\n",
      " 15  N1      2436 non-null   float64\n",
      " 16  N2      2436 non-null   float64\n",
      " 17  N3      2436 non-null   float64\n",
      " 18  N4      2436 non-null   float64\n",
      " 19  N5      2436 non-null   float64\n",
      " 20  O1      2436 non-null   float64\n",
      " 21  O2      2436 non-null   int64  \n",
      " 22  O3      2436 non-null   float64\n",
      " 23  O4      2436 non-null   float64\n",
      " 24  O5      2436 non-null   float64\n",
      "dtypes: float64(24), int64(1)\n",
      "memory usage: 494.8 KB\n"
     ]
    }
   ],
   "source": [
    "# Dropping unnecessary columns\n",
    "df.drop(['gender', 'education', 'age'],axis=1,inplace=True)\n",
    "\n",
    "# Dropping missing values rows\n",
    "df.dropna(inplace=True)\n",
    "\n",
    "df.info()"
   ]
  },
  {
   "cell_type": "code",
   "execution_count": 10,
   "metadata": {
    "slideshow": {
     "slide_type": "subslide"
    }
   },
   "outputs": [
    {
     "data": {
      "text/html": [
       "<div>\n",
       "<style scoped>\n",
       "    .dataframe tbody tr th:only-of-type {\n",
       "        vertical-align: middle;\n",
       "    }\n",
       "\n",
       "    .dataframe tbody tr th {\n",
       "        vertical-align: top;\n",
       "    }\n",
       "\n",
       "    .dataframe thead th {\n",
       "        text-align: right;\n",
       "    }\n",
       "</style>\n",
       "<table border=\"1\" class=\"dataframe\">\n",
       "  <thead>\n",
       "    <tr style=\"text-align: right;\">\n",
       "      <th></th>\n",
       "      <th>A1</th>\n",
       "      <th>A2</th>\n",
       "      <th>A3</th>\n",
       "      <th>A4</th>\n",
       "      <th>A5</th>\n",
       "      <th>C1</th>\n",
       "      <th>C2</th>\n",
       "      <th>C3</th>\n",
       "      <th>C4</th>\n",
       "      <th>C5</th>\n",
       "      <th>...</th>\n",
       "      <th>N1</th>\n",
       "      <th>N2</th>\n",
       "      <th>N3</th>\n",
       "      <th>N4</th>\n",
       "      <th>N5</th>\n",
       "      <th>O1</th>\n",
       "      <th>O2</th>\n",
       "      <th>O3</th>\n",
       "      <th>O4</th>\n",
       "      <th>O5</th>\n",
       "    </tr>\n",
       "  </thead>\n",
       "  <tbody>\n",
       "    <tr>\n",
       "      <th>61617</th>\n",
       "      <td>2.0</td>\n",
       "      <td>4.0</td>\n",
       "      <td>3.0</td>\n",
       "      <td>4.0</td>\n",
       "      <td>4.0</td>\n",
       "      <td>2.0</td>\n",
       "      <td>3.0</td>\n",
       "      <td>3.0</td>\n",
       "      <td>4.0</td>\n",
       "      <td>4.0</td>\n",
       "      <td>...</td>\n",
       "      <td>3.0</td>\n",
       "      <td>4.0</td>\n",
       "      <td>2.0</td>\n",
       "      <td>2.0</td>\n",
       "      <td>3.0</td>\n",
       "      <td>3.0</td>\n",
       "      <td>6</td>\n",
       "      <td>3.0</td>\n",
       "      <td>4.0</td>\n",
       "      <td>3.0</td>\n",
       "    </tr>\n",
       "    <tr>\n",
       "      <th>61618</th>\n",
       "      <td>2.0</td>\n",
       "      <td>4.0</td>\n",
       "      <td>5.0</td>\n",
       "      <td>2.0</td>\n",
       "      <td>5.0</td>\n",
       "      <td>5.0</td>\n",
       "      <td>4.0</td>\n",
       "      <td>4.0</td>\n",
       "      <td>3.0</td>\n",
       "      <td>4.0</td>\n",
       "      <td>...</td>\n",
       "      <td>3.0</td>\n",
       "      <td>3.0</td>\n",
       "      <td>3.0</td>\n",
       "      <td>5.0</td>\n",
       "      <td>5.0</td>\n",
       "      <td>4.0</td>\n",
       "      <td>2</td>\n",
       "      <td>4.0</td>\n",
       "      <td>3.0</td>\n",
       "      <td>3.0</td>\n",
       "    </tr>\n",
       "    <tr>\n",
       "      <th>61620</th>\n",
       "      <td>5.0</td>\n",
       "      <td>4.0</td>\n",
       "      <td>5.0</td>\n",
       "      <td>4.0</td>\n",
       "      <td>4.0</td>\n",
       "      <td>4.0</td>\n",
       "      <td>5.0</td>\n",
       "      <td>4.0</td>\n",
       "      <td>2.0</td>\n",
       "      <td>5.0</td>\n",
       "      <td>...</td>\n",
       "      <td>4.0</td>\n",
       "      <td>5.0</td>\n",
       "      <td>4.0</td>\n",
       "      <td>2.0</td>\n",
       "      <td>3.0</td>\n",
       "      <td>4.0</td>\n",
       "      <td>2</td>\n",
       "      <td>5.0</td>\n",
       "      <td>5.0</td>\n",
       "      <td>2.0</td>\n",
       "    </tr>\n",
       "    <tr>\n",
       "      <th>61621</th>\n",
       "      <td>4.0</td>\n",
       "      <td>4.0</td>\n",
       "      <td>6.0</td>\n",
       "      <td>5.0</td>\n",
       "      <td>5.0</td>\n",
       "      <td>4.0</td>\n",
       "      <td>4.0</td>\n",
       "      <td>3.0</td>\n",
       "      <td>5.0</td>\n",
       "      <td>5.0</td>\n",
       "      <td>...</td>\n",
       "      <td>2.0</td>\n",
       "      <td>5.0</td>\n",
       "      <td>2.0</td>\n",
       "      <td>4.0</td>\n",
       "      <td>1.0</td>\n",
       "      <td>3.0</td>\n",
       "      <td>3</td>\n",
       "      <td>4.0</td>\n",
       "      <td>3.0</td>\n",
       "      <td>5.0</td>\n",
       "    </tr>\n",
       "    <tr>\n",
       "      <th>61622</th>\n",
       "      <td>2.0</td>\n",
       "      <td>3.0</td>\n",
       "      <td>3.0</td>\n",
       "      <td>4.0</td>\n",
       "      <td>5.0</td>\n",
       "      <td>4.0</td>\n",
       "      <td>4.0</td>\n",
       "      <td>5.0</td>\n",
       "      <td>3.0</td>\n",
       "      <td>2.0</td>\n",
       "      <td>...</td>\n",
       "      <td>2.0</td>\n",
       "      <td>3.0</td>\n",
       "      <td>4.0</td>\n",
       "      <td>4.0</td>\n",
       "      <td>3.0</td>\n",
       "      <td>3.0</td>\n",
       "      <td>3</td>\n",
       "      <td>4.0</td>\n",
       "      <td>3.0</td>\n",
       "      <td>3.0</td>\n",
       "    </tr>\n",
       "  </tbody>\n",
       "</table>\n",
       "<p>5 rows × 25 columns</p>\n",
       "</div>"
      ],
      "text/plain": [
       "        A1   A2   A3   A4   A5   C1   C2   C3   C4   C5  ...   N1   N2   N3  \\\n",
       "61617  2.0  4.0  3.0  4.0  4.0  2.0  3.0  3.0  4.0  4.0  ...  3.0  4.0  2.0   \n",
       "61618  2.0  4.0  5.0  2.0  5.0  5.0  4.0  4.0  3.0  4.0  ...  3.0  3.0  3.0   \n",
       "61620  5.0  4.0  5.0  4.0  4.0  4.0  5.0  4.0  2.0  5.0  ...  4.0  5.0  4.0   \n",
       "61621  4.0  4.0  6.0  5.0  5.0  4.0  4.0  3.0  5.0  5.0  ...  2.0  5.0  2.0   \n",
       "61622  2.0  3.0  3.0  4.0  5.0  4.0  4.0  5.0  3.0  2.0  ...  2.0  3.0  4.0   \n",
       "\n",
       "        N4   N5   O1  O2   O3   O4   O5  \n",
       "61617  2.0  3.0  3.0   6  3.0  4.0  3.0  \n",
       "61618  5.0  5.0  4.0   2  4.0  3.0  3.0  \n",
       "61620  2.0  3.0  4.0   2  5.0  5.0  2.0  \n",
       "61621  4.0  1.0  3.0   3  4.0  3.0  5.0  \n",
       "61622  4.0  3.0  3.0   3  4.0  3.0  3.0  \n",
       "\n",
       "[5 rows x 25 columns]"
      ]
     },
     "execution_count": 10,
     "metadata": {},
     "output_type": "execute_result"
    }
   ],
   "source": [
    "df.head()"
   ]
  },
  {
   "cell_type": "markdown",
   "metadata": {
    "slideshow": {
     "slide_type": "slide"
    }
   },
   "source": [
    "# Adequacy Test\n",
    "---\n",
    "- Before you perform factor analysis, you need to evaluate the “factorability” of our dataset. Factorability means \"can we found the factors in the dataset?\". There are two methods to check the factorability or sampling adequacy:\n",
    "    - Bartlett’s Test\n",
    "    - Kaiser-Meyer-Olkin Test\n",
    "\n",
    "- Bartlett’s test of sphericity checks whether or not the observed variables intercorrelate at all using the observed correlation matrix against the identity matrix. If the test found statistically insignificant, you should not employ a factor analysis."
   ]
  },
  {
   "cell_type": "code",
   "execution_count": 12,
   "metadata": {},
   "outputs": [
    {
     "data": {
      "text/plain": [
       "(18170.966350869243, 0.0)"
      ]
     },
     "execution_count": 12,
     "metadata": {},
     "output_type": "execute_result"
    }
   ],
   "source": [
    "from factor_analyzer.factor_analyzer import calculate_bartlett_sphericity\n",
    "chi_square_value,p_value=calculate_bartlett_sphericity(df)\n",
    "chi_square_value, p_value\n",
    "\n",
    "# In this Bartlett ’s test, the p-value is 0. The test was statistically significant, indicating that the observed correlation matrix is not an identity matrix."
   ]
  },
  {
   "cell_type": "markdown",
   "metadata": {
    "slideshow": {
     "slide_type": "slide"
    }
   },
   "source": [
    "- Kaiser-Meyer-Olkin (KMO) Test: It measures the suitability of data for factor analysis. KMO estimates the proportion of variance among all the observed variable. High proportion is more suitable for factor analysis. KMO values range between 0 and 1. Value of KMO less than 0.6 is considered inadequate."
   ]
  },
  {
   "cell_type": "code",
   "execution_count": 13,
   "metadata": {},
   "outputs": [],
   "source": [
    "from factor_analyzer.factor_analyzer import calculate_kmo\n",
    "kmo_all,kmo_model=calculate_kmo(df)"
   ]
  },
  {
   "cell_type": "code",
   "execution_count": 15,
   "metadata": {},
   "outputs": [
    {
     "data": {
      "text/plain": [
       "0.848539722194922"
      ]
     },
     "execution_count": 15,
     "metadata": {},
     "output_type": "execute_result"
    }
   ],
   "source": [
    "kmo_model\n",
    "\n",
    "# The overall KMO for our data is 0.84, which is excellent. This value indicates that you can proceed with your planned factor analysis."
   ]
  },
  {
   "cell_type": "markdown",
   "metadata": {
    "slideshow": {
     "slide_type": "slide"
    }
   },
   "source": [
    "# Factor Analysis\n",
    "---\n",
    "- Choosing the number of factors"
   ]
  },
  {
   "cell_type": "code",
   "execution_count": 26,
   "metadata": {},
   "outputs": [
    {
     "data": {
      "text/plain": [
       "array([5.13431118, 2.75188667, 2.14270195, 1.85232761, 1.54816285,\n",
       "       1.07358247, 0.83953893, 0.79920618, 0.71898919, 0.68808879,\n",
       "       0.67637336, 0.65179984, 0.62325295, 0.59656284, 0.56309083,\n",
       "       0.54330533, 0.51451752, 0.49450315, 0.48263952, 0.448921  ,\n",
       "       0.42336611, 0.40067145, 0.38780448, 0.38185679, 0.26253902])"
      ]
     },
     "execution_count": 26,
     "metadata": {},
     "output_type": "execute_result"
    }
   ],
   "source": [
    "# Create factor analysis object and perform factor analysis\n",
    "fa = FactorAnalyzer(25, rotation=None)\n",
    "fa.fit(df)\n",
    "# Check Eigenvalues\n",
    "ev, v = fa.get_eigenvalues()\n",
    "ev"
   ]
  },
  {
   "cell_type": "code",
   "execution_count": 27,
   "metadata": {},
   "outputs": [
    {
     "data": {
      "image/png": "[encoded data removed]",
      "text/plain": [
       "<Figure size 432x288 with 1 Axes>"
      ]
     },
     "metadata": {
      "needs_background": "light"
     },
     "output_type": "display_data"
    }
   ],
   "source": [
    "# Create scree plot using matplotlib\n",
    "plt.scatter(range(1,df.shape[1]+1),ev)\n",
    "plt.plot(range(1,df.shape[1]+1),ev)\n",
    "plt.title('Scree Plot')\n",
    "plt.xlabel('Factors')\n",
    "plt.ylabel('Eigenvalue')\n",
    "plt.grid()\n",
    "plt.show()"
   ]
  },
  {
   "cell_type": "code",
   "execution_count": 38,
   "metadata": {
    "cell_style": "split",
    "slideshow": {
     "slide_type": "slide"
    }
   },
   "outputs": [
    {
     "data": {
      "text/html": [
       "<div>\n",
       "<style scoped>\n",
       "    .dataframe tbody tr th:only-of-type {\n",
       "        vertical-align: middle;\n",
       "    }\n",
       "\n",
       "    .dataframe tbody tr th {\n",
       "        vertical-align: top;\n",
       "    }\n",
       "\n",
       "    .dataframe thead th {\n",
       "        text-align: right;\n",
       "    }\n",
       "</style>\n",
       "<table border=\"1\" class=\"dataframe\">\n",
       "  <thead>\n",
       "    <tr style=\"text-align: right;\">\n",
       "      <th></th>\n",
       "      <th>Factor1</th>\n",
       "      <th>Factor2</th>\n",
       "      <th>Factor3</th>\n",
       "      <th>Factor4</th>\n",
       "      <th>Factor5</th>\n",
       "      <th>Factor6</th>\n",
       "    </tr>\n",
       "  </thead>\n",
       "  <tbody>\n",
       "    <tr>\n",
       "      <th>A1</th>\n",
       "      <td>0.095220</td>\n",
       "      <td>0.040783</td>\n",
       "      <td>0.048734</td>\n",
       "      <td>-0.530987</td>\n",
       "      <td>-0.113057</td>\n",
       "      <td>0.161216</td>\n",
       "    </tr>\n",
       "    <tr>\n",
       "      <th>A2</th>\n",
       "      <td>0.033131</td>\n",
       "      <td>0.235538</td>\n",
       "      <td>0.133714</td>\n",
       "      <td>0.661141</td>\n",
       "      <td>0.063734</td>\n",
       "      <td>-0.006244</td>\n",
       "    </tr>\n",
       "    <tr>\n",
       "      <th>A3</th>\n",
       "      <td>-0.009621</td>\n",
       "      <td>0.343008</td>\n",
       "      <td>0.121353</td>\n",
       "      <td>0.605933</td>\n",
       "      <td>0.033990</td>\n",
       "      <td>0.160106</td>\n",
       "    </tr>\n",
       "    <tr>\n",
       "      <th>A4</th>\n",
       "      <td>-0.081518</td>\n",
       "      <td>0.219717</td>\n",
       "      <td>0.235140</td>\n",
       "      <td>0.404594</td>\n",
       "      <td>-0.125338</td>\n",
       "      <td>0.086356</td>\n",
       "    </tr>\n",
       "    <tr>\n",
       "      <th>A5</th>\n",
       "      <td>-0.149616</td>\n",
       "      <td>0.414458</td>\n",
       "      <td>0.106382</td>\n",
       "      <td>0.469698</td>\n",
       "      <td>0.030977</td>\n",
       "      <td>0.236519</td>\n",
       "    </tr>\n",
       "    <tr>\n",
       "      <th>C1</th>\n",
       "      <td>-0.004358</td>\n",
       "      <td>0.077248</td>\n",
       "      <td>0.554582</td>\n",
       "      <td>0.007511</td>\n",
       "      <td>0.190124</td>\n",
       "      <td>0.095035</td>\n",
       "    </tr>\n",
       "    <tr>\n",
       "      <th>C2</th>\n",
       "      <td>0.068330</td>\n",
       "      <td>0.038370</td>\n",
       "      <td>0.674545</td>\n",
       "      <td>0.057055</td>\n",
       "      <td>0.087593</td>\n",
       "      <td>0.152775</td>\n",
       "    </tr>\n",
       "    <tr>\n",
       "      <th>C3</th>\n",
       "      <td>-0.039994</td>\n",
       "      <td>0.031867</td>\n",
       "      <td>0.551164</td>\n",
       "      <td>0.101282</td>\n",
       "      <td>-0.011338</td>\n",
       "      <td>0.008996</td>\n",
       "    </tr>\n",
       "    <tr>\n",
       "      <th>C4</th>\n",
       "      <td>0.216283</td>\n",
       "      <td>-0.066241</td>\n",
       "      <td>-0.638475</td>\n",
       "      <td>-0.102617</td>\n",
       "      <td>-0.143846</td>\n",
       "      <td>0.318359</td>\n",
       "    </tr>\n",
       "    <tr>\n",
       "      <th>C5</th>\n",
       "      <td>0.284187</td>\n",
       "      <td>-0.180812</td>\n",
       "      <td>-0.544838</td>\n",
       "      <td>-0.059955</td>\n",
       "      <td>0.025837</td>\n",
       "      <td>0.132423</td>\n",
       "    </tr>\n",
       "    <tr>\n",
       "      <th>E1</th>\n",
       "      <td>0.022280</td>\n",
       "      <td>-0.590451</td>\n",
       "      <td>0.053915</td>\n",
       "      <td>-0.130851</td>\n",
       "      <td>-0.071205</td>\n",
       "      <td>0.156583</td>\n",
       "    </tr>\n",
       "    <tr>\n",
       "      <th>E2</th>\n",
       "      <td>0.233624</td>\n",
       "      <td>-0.684578</td>\n",
       "      <td>-0.088497</td>\n",
       "      <td>-0.116716</td>\n",
       "      <td>-0.045561</td>\n",
       "      <td>0.115065</td>\n",
       "    </tr>\n",
       "    <tr>\n",
       "      <th>E3</th>\n",
       "      <td>-0.000895</td>\n",
       "      <td>0.556774</td>\n",
       "      <td>0.103390</td>\n",
       "      <td>0.179396</td>\n",
       "      <td>0.241180</td>\n",
       "      <td>0.267291</td>\n",
       "    </tr>\n",
       "    <tr>\n",
       "      <th>E4</th>\n",
       "      <td>-0.136788</td>\n",
       "      <td>0.658395</td>\n",
       "      <td>0.113798</td>\n",
       "      <td>0.241143</td>\n",
       "      <td>-0.107808</td>\n",
       "      <td>0.158513</td>\n",
       "    </tr>\n",
       "    <tr>\n",
       "      <th>E5</th>\n",
       "      <td>0.034490</td>\n",
       "      <td>0.507535</td>\n",
       "      <td>0.309813</td>\n",
       "      <td>0.078804</td>\n",
       "      <td>0.200821</td>\n",
       "      <td>0.008747</td>\n",
       "    </tr>\n",
       "    <tr>\n",
       "      <th>N1</th>\n",
       "      <td>0.805806</td>\n",
       "      <td>0.068011</td>\n",
       "      <td>-0.051264</td>\n",
       "      <td>-0.174849</td>\n",
       "      <td>-0.074977</td>\n",
       "      <td>-0.096266</td>\n",
       "    </tr>\n",
       "    <tr>\n",
       "      <th>N2</th>\n",
       "      <td>0.789832</td>\n",
       "      <td>0.022958</td>\n",
       "      <td>-0.037477</td>\n",
       "      <td>-0.141134</td>\n",
       "      <td>0.006726</td>\n",
       "      <td>-0.139823</td>\n",
       "    </tr>\n",
       "    <tr>\n",
       "      <th>N3</th>\n",
       "      <td>0.725081</td>\n",
       "      <td>-0.065687</td>\n",
       "      <td>-0.059039</td>\n",
       "      <td>-0.019184</td>\n",
       "      <td>-0.010664</td>\n",
       "      <td>0.062495</td>\n",
       "    </tr>\n",
       "    <tr>\n",
       "      <th>N4</th>\n",
       "      <td>0.578319</td>\n",
       "      <td>-0.345072</td>\n",
       "      <td>-0.162174</td>\n",
       "      <td>0.000403</td>\n",
       "      <td>0.062916</td>\n",
       "      <td>0.147551</td>\n",
       "    </tr>\n",
       "    <tr>\n",
       "      <th>N5</th>\n",
       "      <td>0.523097</td>\n",
       "      <td>-0.161675</td>\n",
       "      <td>-0.025305</td>\n",
       "      <td>0.090125</td>\n",
       "      <td>-0.161892</td>\n",
       "      <td>0.120049</td>\n",
       "    </tr>\n",
       "    <tr>\n",
       "      <th>O1</th>\n",
       "      <td>-0.020004</td>\n",
       "      <td>0.225339</td>\n",
       "      <td>0.133201</td>\n",
       "      <td>0.005178</td>\n",
       "      <td>0.479477</td>\n",
       "      <td>0.218690</td>\n",
       "    </tr>\n",
       "    <tr>\n",
       "      <th>O2</th>\n",
       "      <td>0.156230</td>\n",
       "      <td>-0.001982</td>\n",
       "      <td>-0.086047</td>\n",
       "      <td>0.043989</td>\n",
       "      <td>-0.496640</td>\n",
       "      <td>0.134693</td>\n",
       "    </tr>\n",
       "    <tr>\n",
       "      <th>O3</th>\n",
       "      <td>0.011851</td>\n",
       "      <td>0.325954</td>\n",
       "      <td>0.093880</td>\n",
       "      <td>0.076642</td>\n",
       "      <td>0.566128</td>\n",
       "      <td>0.210777</td>\n",
       "    </tr>\n",
       "    <tr>\n",
       "      <th>O4</th>\n",
       "      <td>0.207281</td>\n",
       "      <td>-0.177746</td>\n",
       "      <td>-0.005671</td>\n",
       "      <td>0.133656</td>\n",
       "      <td>0.349227</td>\n",
       "      <td>0.178068</td>\n",
       "    </tr>\n",
       "    <tr>\n",
       "      <th>O5</th>\n",
       "      <td>0.063234</td>\n",
       "      <td>-0.014221</td>\n",
       "      <td>-0.047059</td>\n",
       "      <td>-0.057561</td>\n",
       "      <td>-0.576743</td>\n",
       "      <td>0.135936</td>\n",
       "    </tr>\n",
       "  </tbody>\n",
       "</table>\n",
       "</div>"
      ],
      "text/plain": [
       "     Factor1   Factor2   Factor3   Factor4   Factor5   Factor6\n",
       "A1  0.095220  0.040783  0.048734 -0.530987 -0.113057  0.161216\n",
       "A2  0.033131  0.235538  0.133714  0.661141  0.063734 -0.006244\n",
       "A3 -0.009621  0.343008  0.121353  0.605933  0.033990  0.160106\n",
       "A4 -0.081518  0.219717  0.235140  0.404594 -0.125338  0.086356\n",
       "A5 -0.149616  0.414458  0.106382  0.469698  0.030977  0.236519\n",
       "C1 -0.004358  0.077248  0.554582  0.007511  0.190124  0.095035\n",
       "C2  0.068330  0.038370  0.674545  0.057055  0.087593  0.152775\n",
       "C3 -0.039994  0.031867  0.551164  0.101282 -0.011338  0.008996\n",
       "C4  0.216283 -0.066241 -0.638475 -0.102617 -0.143846  0.318359\n",
       "C5  0.284187 -0.180812 -0.544838 -0.059955  0.025837  0.132423\n",
       "E1  0.022280 -0.590451  0.053915 -0.130851 -0.071205  0.156583\n",
       "E2  0.233624 -0.684578 -0.088497 -0.116716 -0.045561  0.115065\n",
       "E3 -0.000895  0.556774  0.103390  0.179396  0.241180  0.267291\n",
       "E4 -0.136788  0.658395  0.113798  0.241143 -0.107808  0.158513\n",
       "E5  0.034490  0.507535  0.309813  0.078804  0.200821  0.008747\n",
       "N1  0.805806  0.068011 -0.051264 -0.174849 -0.074977 -0.096266\n",
       "N2  0.789832  0.022958 -0.037477 -0.141134  0.006726 -0.139823\n",
       "N3  0.725081 -0.065687 -0.059039 -0.019184 -0.010664  0.062495\n",
       "N4  0.578319 -0.345072 -0.162174  0.000403  0.062916  0.147551\n",
       "N5  0.523097 -0.161675 -0.025305  0.090125 -0.161892  0.120049\n",
       "O1 -0.020004  0.225339  0.133201  0.005178  0.479477  0.218690\n",
       "O2  0.156230 -0.001982 -0.086047  0.043989 -0.496640  0.134693\n",
       "O3  0.011851  0.325954  0.093880  0.076642  0.566128  0.210777\n",
       "O4  0.207281 -0.177746 -0.005671  0.133656  0.349227  0.178068\n",
       "O5  0.063234 -0.014221 -0.047059 -0.057561 -0.576743  0.135936"
      ]
     },
     "execution_count": 38,
     "metadata": {},
     "output_type": "execute_result"
    }
   ],
   "source": [
    "fa = FactorAnalyzer(6, rotation=\"Varimax\")\n",
    "fa.fit(df)\n",
    "\n",
    "pd.DataFrame(data=fa.loadings_,  index=df.columns, columns=[\"Factor1\", \"Factor2\", \"Factor3\", \"Factor4\", \"Factor5\", \"Factor6\"])"
   ]
  },
  {
   "cell_type": "markdown",
   "metadata": {
    "cell_style": "split",
    "slideshow": {
     "slide_type": "fragment"
    }
   },
   "source": [
    "- Factor 1 has high factor loadings for N1,N2,N3,N4, and N5 (Neuroticism)\n",
    "- Factor 2 has high factor loadings for E1,E2,E3,E4, and E5 (Extraversion)\n",
    "- Factor 3 has high factor loadings for C1,C2,C3,C4, and C5 (Conscientiousness)\n",
    "- Factor 4 has high factor loadings for A1,A2,A3,A4, and A5 (Agreeableness)\n",
    "- Factor 5 has high factor loadings for O1,O2,O3,O4, and O5 (Opennness)\n",
    "- Factor 6 has none of the high loagings for any variable and is not easily interpretable. Its good if we take only five factors."
   ]
  },
  {
   "cell_type": "code",
   "execution_count": 42,
   "metadata": {
    "cell_style": "center",
    "slideshow": {
     "slide_type": "slide"
    }
   },
   "outputs": [
    {
     "data": {
      "text/html": [
       "<div>\n",
       "<style scoped>\n",
       "    .dataframe tbody tr th:only-of-type {\n",
       "        vertical-align: middle;\n",
       "    }\n",
       "\n",
       "    .dataframe tbody tr th {\n",
       "        vertical-align: top;\n",
       "    }\n",
       "\n",
       "    .dataframe thead th {\n",
       "        text-align: right;\n",
       "    }\n",
       "</style>\n",
       "<table border=\"1\" class=\"dataframe\">\n",
       "  <thead>\n",
       "    <tr style=\"text-align: right;\">\n",
       "      <th></th>\n",
       "      <th>Factor1</th>\n",
       "      <th>Factor2</th>\n",
       "      <th>Factor3</th>\n",
       "      <th>Factor4</th>\n",
       "      <th>Factor5</th>\n",
       "    </tr>\n",
       "  </thead>\n",
       "  <tbody>\n",
       "    <tr>\n",
       "      <th>A1</th>\n",
       "      <td>0.111126</td>\n",
       "      <td>0.040465</td>\n",
       "      <td>0.022798</td>\n",
       "      <td>-0.428166</td>\n",
       "      <td>-0.077931</td>\n",
       "    </tr>\n",
       "    <tr>\n",
       "      <th>A2</th>\n",
       "      <td>0.029588</td>\n",
       "      <td>0.213716</td>\n",
       "      <td>0.139037</td>\n",
       "      <td>0.626946</td>\n",
       "      <td>0.062139</td>\n",
       "    </tr>\n",
       "    <tr>\n",
       "      <th>A3</th>\n",
       "      <td>0.009357</td>\n",
       "      <td>0.317848</td>\n",
       "      <td>0.109331</td>\n",
       "      <td>0.650743</td>\n",
       "      <td>0.056196</td>\n",
       "    </tr>\n",
       "    <tr>\n",
       "      <th>A4</th>\n",
       "      <td>-0.066476</td>\n",
       "      <td>0.204566</td>\n",
       "      <td>0.230584</td>\n",
       "      <td>0.435624</td>\n",
       "      <td>-0.112700</td>\n",
       "    </tr>\n",
       "    <tr>\n",
       "      <th>A5</th>\n",
       "      <td>-0.122113</td>\n",
       "      <td>0.393034</td>\n",
       "      <td>0.087869</td>\n",
       "      <td>0.537087</td>\n",
       "      <td>0.066708</td>\n",
       "    </tr>\n",
       "    <tr>\n",
       "      <th>C1</th>\n",
       "      <td>0.010416</td>\n",
       "      <td>0.070184</td>\n",
       "      <td>0.545824</td>\n",
       "      <td>0.038878</td>\n",
       "      <td>0.209584</td>\n",
       "    </tr>\n",
       "    <tr>\n",
       "      <th>C2</th>\n",
       "      <td>0.089574</td>\n",
       "      <td>0.033270</td>\n",
       "      <td>0.648731</td>\n",
       "      <td>0.102782</td>\n",
       "      <td>0.115434</td>\n",
       "    </tr>\n",
       "    <tr>\n",
       "      <th>C3</th>\n",
       "      <td>-0.030855</td>\n",
       "      <td>0.023907</td>\n",
       "      <td>0.557036</td>\n",
       "      <td>0.111578</td>\n",
       "      <td>-0.005183</td>\n",
       "    </tr>\n",
       "    <tr>\n",
       "      <th>C4</th>\n",
       "      <td>0.240410</td>\n",
       "      <td>-0.064984</td>\n",
       "      <td>-0.633806</td>\n",
       "      <td>-0.037498</td>\n",
       "      <td>-0.107535</td>\n",
       "    </tr>\n",
       "    <tr>\n",
       "      <th>C5</th>\n",
       "      <td>0.290318</td>\n",
       "      <td>-0.176395</td>\n",
       "      <td>-0.562467</td>\n",
       "      <td>-0.047525</td>\n",
       "      <td>0.036822</td>\n",
       "    </tr>\n",
       "    <tr>\n",
       "      <th>E1</th>\n",
       "      <td>0.042819</td>\n",
       "      <td>-0.574835</td>\n",
       "      <td>0.033144</td>\n",
       "      <td>-0.104813</td>\n",
       "      <td>-0.058795</td>\n",
       "    </tr>\n",
       "    <tr>\n",
       "      <th>E2</th>\n",
       "      <td>0.244743</td>\n",
       "      <td>-0.678731</td>\n",
       "      <td>-0.102483</td>\n",
       "      <td>-0.112517</td>\n",
       "      <td>-0.042010</td>\n",
       "    </tr>\n",
       "    <tr>\n",
       "      <th>E3</th>\n",
       "      <td>0.024180</td>\n",
       "      <td>0.536816</td>\n",
       "      <td>0.083010</td>\n",
       "      <td>0.257906</td>\n",
       "      <td>0.280877</td>\n",
       "    </tr>\n",
       "    <tr>\n",
       "      <th>E4</th>\n",
       "      <td>-0.115614</td>\n",
       "      <td>0.646833</td>\n",
       "      <td>0.102023</td>\n",
       "      <td>0.306101</td>\n",
       "      <td>-0.073422</td>\n",
       "    </tr>\n",
       "    <tr>\n",
       "      <th>E5</th>\n",
       "      <td>0.036145</td>\n",
       "      <td>0.504069</td>\n",
       "      <td>0.312899</td>\n",
       "      <td>0.090354</td>\n",
       "      <td>0.213739</td>\n",
       "    </tr>\n",
       "    <tr>\n",
       "      <th>N1</th>\n",
       "      <td>0.786807</td>\n",
       "      <td>0.078923</td>\n",
       "      <td>-0.045997</td>\n",
       "      <td>-0.216363</td>\n",
       "      <td>-0.084704</td>\n",
       "    </tr>\n",
       "    <tr>\n",
       "      <th>N2</th>\n",
       "      <td>0.754109</td>\n",
       "      <td>0.027301</td>\n",
       "      <td>-0.030568</td>\n",
       "      <td>-0.193744</td>\n",
       "      <td>-0.010304</td>\n",
       "    </tr>\n",
       "    <tr>\n",
       "      <th>N3</th>\n",
       "      <td>0.731721</td>\n",
       "      <td>-0.061430</td>\n",
       "      <td>-0.067084</td>\n",
       "      <td>-0.027712</td>\n",
       "      <td>-0.004217</td>\n",
       "    </tr>\n",
       "    <tr>\n",
       "      <th>N4</th>\n",
       "      <td>0.590602</td>\n",
       "      <td>-0.345388</td>\n",
       "      <td>-0.178902</td>\n",
       "      <td>0.005886</td>\n",
       "      <td>0.075225</td>\n",
       "    </tr>\n",
       "    <tr>\n",
       "      <th>N5</th>\n",
       "      <td>0.537858</td>\n",
       "      <td>-0.161291</td>\n",
       "      <td>-0.037309</td>\n",
       "      <td>0.100931</td>\n",
       "      <td>-0.149769</td>\n",
       "    </tr>\n",
       "    <tr>\n",
       "      <th>O1</th>\n",
       "      <td>-0.002224</td>\n",
       "      <td>0.213005</td>\n",
       "      <td>0.115080</td>\n",
       "      <td>0.061550</td>\n",
       "      <td>0.504907</td>\n",
       "    </tr>\n",
       "    <tr>\n",
       "      <th>O2</th>\n",
       "      <td>0.175788</td>\n",
       "      <td>0.004560</td>\n",
       "      <td>-0.099729</td>\n",
       "      <td>0.081809</td>\n",
       "      <td>-0.468925</td>\n",
       "    </tr>\n",
       "    <tr>\n",
       "      <th>O3</th>\n",
       "      <td>0.026736</td>\n",
       "      <td>0.310956</td>\n",
       "      <td>0.076873</td>\n",
       "      <td>0.126889</td>\n",
       "      <td>0.596007</td>\n",
       "    </tr>\n",
       "    <tr>\n",
       "      <th>O4</th>\n",
       "      <td>0.220582</td>\n",
       "      <td>-0.191196</td>\n",
       "      <td>-0.021906</td>\n",
       "      <td>0.155475</td>\n",
       "      <td>0.369012</td>\n",
       "    </tr>\n",
       "    <tr>\n",
       "      <th>O5</th>\n",
       "      <td>0.085401</td>\n",
       "      <td>-0.005347</td>\n",
       "      <td>-0.062730</td>\n",
       "      <td>-0.010384</td>\n",
       "      <td>-0.533778</td>\n",
       "    </tr>\n",
       "  </tbody>\n",
       "</table>\n",
       "</div>"
      ],
      "text/plain": [
       "     Factor1   Factor2   Factor3   Factor4   Factor5\n",
       "A1  0.111126  0.040465  0.022798 -0.428166 -0.077931\n",
       "A2  0.029588  0.213716  0.139037  0.626946  0.062139\n",
       "A3  0.009357  0.317848  0.109331  0.650743  0.056196\n",
       "A4 -0.066476  0.204566  0.230584  0.435624 -0.112700\n",
       "A5 -0.122113  0.393034  0.087869  0.537087  0.066708\n",
       "C1  0.010416  0.070184  0.545824  0.038878  0.209584\n",
       "C2  0.089574  0.033270  0.648731  0.102782  0.115434\n",
       "C3 -0.030855  0.023907  0.557036  0.111578 -0.005183\n",
       "C4  0.240410 -0.064984 -0.633806 -0.037498 -0.107535\n",
       "C5  0.290318 -0.176395 -0.562467 -0.047525  0.036822\n",
       "E1  0.042819 -0.574835  0.033144 -0.104813 -0.058795\n",
       "E2  0.244743 -0.678731 -0.102483 -0.112517 -0.042010\n",
       "E3  0.024180  0.536816  0.083010  0.257906  0.280877\n",
       "E4 -0.115614  0.646833  0.102023  0.306101 -0.073422\n",
       "E5  0.036145  0.504069  0.312899  0.090354  0.213739\n",
       "N1  0.786807  0.078923 -0.045997 -0.216363 -0.084704\n",
       "N2  0.754109  0.027301 -0.030568 -0.193744 -0.010304\n",
       "N3  0.731721 -0.061430 -0.067084 -0.027712 -0.004217\n",
       "N4  0.590602 -0.345388 -0.178902  0.005886  0.075225\n",
       "N5  0.537858 -0.161291 -0.037309  0.100931 -0.149769\n",
       "O1 -0.002224  0.213005  0.115080  0.061550  0.504907\n",
       "O2  0.175788  0.004560 -0.099729  0.081809 -0.468925\n",
       "O3  0.026736  0.310956  0.076873  0.126889  0.596007\n",
       "O4  0.220582 -0.191196 -0.021906  0.155475  0.369012\n",
       "O5  0.085401 -0.005347 -0.062730 -0.010384 -0.533778"
      ]
     },
     "execution_count": 42,
     "metadata": {},
     "output_type": "execute_result"
    }
   ],
   "source": [
    "fa = FactorAnalyzer(5, rotation=\"Varimax\")\n",
    "fa.fit(df)\n",
    "\n",
    "pd.DataFrame(data=fa.loadings_,  index=df.columns, columns=[\"Factor1\", \"Factor2\", \"Factor3\", \"Factor4\", \"Factor5\"])"
   ]
  },
  {
   "cell_type": "code",
   "execution_count": 43,
   "metadata": {
    "cell_style": "center",
    "slideshow": {
     "slide_type": "slide"
    }
   },
   "outputs": [
    {
     "data": {
      "text/html": [
       "<div>\n",
       "<style scoped>\n",
       "    .dataframe tbody tr th:only-of-type {\n",
       "        vertical-align: middle;\n",
       "    }\n",
       "\n",
       "    .dataframe tbody tr th {\n",
       "        vertical-align: top;\n",
       "    }\n",
       "\n",
       "    .dataframe thead th {\n",
       "        text-align: right;\n",
       "    }\n",
       "</style>\n",
       "<table border=\"1\" class=\"dataframe\">\n",
       "  <thead>\n",
       "    <tr style=\"text-align: right;\">\n",
       "      <th></th>\n",
       "      <th>Factor1</th>\n",
       "      <th>Factor2</th>\n",
       "      <th>Factor3</th>\n",
       "      <th>Factor4</th>\n",
       "      <th>Factor5</th>\n",
       "    </tr>\n",
       "  </thead>\n",
       "  <tbody>\n",
       "    <tr>\n",
       "      <th>SS Loadings</th>\n",
       "      <td>2.709633</td>\n",
       "      <td>2.473090</td>\n",
       "      <td>2.041106</td>\n",
       "      <td>1.844498</td>\n",
       "      <td>1.522153</td>\n",
       "    </tr>\n",
       "    <tr>\n",
       "      <th>Proportion Var</th>\n",
       "      <td>0.108385</td>\n",
       "      <td>0.098924</td>\n",
       "      <td>0.081644</td>\n",
       "      <td>0.073780</td>\n",
       "      <td>0.060886</td>\n",
       "    </tr>\n",
       "    <tr>\n",
       "      <th>Cumulative Var</th>\n",
       "      <td>0.108385</td>\n",
       "      <td>0.207309</td>\n",
       "      <td>0.288953</td>\n",
       "      <td>0.362733</td>\n",
       "      <td>0.423619</td>\n",
       "    </tr>\n",
       "  </tbody>\n",
       "</table>\n",
       "</div>"
      ],
      "text/plain": [
       "                 Factor1   Factor2   Factor3   Factor4   Factor5\n",
       "SS Loadings     2.709633  2.473090  2.041106  1.844498  1.522153\n",
       "Proportion Var  0.108385  0.098924  0.081644  0.073780  0.060886\n",
       "Cumulative Var  0.108385  0.207309  0.288953  0.362733  0.423619"
      ]
     },
     "execution_count": 43,
     "metadata": {},
     "output_type": "execute_result"
    }
   ],
   "source": [
    "# Get variance of each factors\n",
    "pd.DataFrame(data=fa.get_factor_variance(),  index=[\"SS Loadings\", \"Proportion Var\", \"Cumulative Var\"], columns=[\"Factor1\", \"Factor2\", \"Factor3\", \"Factor4\", \"Factor5\"])"
   ]
  }
 ],
 "metadata": {
  "celltoolbar": "Slideshow",
  "kernelspec": {
   "display_name": "Python 3",
   "language": "python",
   "name": "python3"
  },
  "language_info": {
   "codemirror_mode": {
    "name": "ipython",
    "version": 3
   },
   "file_extension": ".py",
   "mimetype": "text/x-python",
   "name": "python",
   "nbconvert_exporter": "python",
   "pygments_lexer": "ipython3",
   "version": "3.7.6"
  }
 },
 "nbformat": 4,
 "nbformat_minor": 4
}
